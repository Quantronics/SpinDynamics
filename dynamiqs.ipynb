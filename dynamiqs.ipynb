{
  "cells": [
    {
      "cell_type": "code",
      "execution_count": 1,
      "metadata": {
        "colab": {
          "base_uri": "https://localhost:8080/"
        },
        "id": "m_kdn6OVXdmi",
        "outputId": "7e47a500-2811-4c5f-d7bb-2e5da9a116da"
      },
      "outputs": [
        {
          "name": "stdout",
          "output_type": "stream",
          "text": [
            "Collecting git+https://github.com/dynamiqs/dynamiqs.git\n",
            "  Cloning https://github.com/dynamiqs/dynamiqs.git to /tmp/pip-req-build-n447pmux\n",
            "  Running command git clone --filter=blob:none --quiet https://github.com/dynamiqs/dynamiqs.git /tmp/pip-req-build-n447pmux\n",
            "  Resolved https://github.com/dynamiqs/dynamiqs.git to commit dbd157063a00c1ec2342fb74a57d3e77e243a7e1\n",
            "  Installing build dependencies ... \u001b[?25l\u001b[?25hdone\n",
            "  Getting requirements to build wheel ... \u001b[?25l\u001b[?25hdone\n",
            "  Preparing metadata (pyproject.toml) ... \u001b[?25l\u001b[?25hdone\n",
            "Collecting qutip (from dynamiqs==0.1.0)\n",
            "  Downloading qutip-4.7.5-cp310-cp310-manylinux_2_17_x86_64.manylinux2014_x86_64.whl (16.3 MB)\n",
            "\u001b[2K     \u001b[90m━━━━━━━━━━━━━━━━━━━━━━━━━━━━━━━━━━━━━━━━\u001b[0m \u001b[32m16.3/16.3 MB\u001b[0m \u001b[31m27.1 MB/s\u001b[0m eta \u001b[36m0:00:00\u001b[0m\n",
            "\u001b[?25hRequirement already satisfied: numpy in /usr/local/lib/python3.10/dist-packages (from dynamiqs==0.1.0) (1.23.5)\n",
            "Requirement already satisfied: matplotlib in /usr/local/lib/python3.10/dist-packages (from dynamiqs==0.1.0) (3.7.1)\n",
            "Requirement already satisfied: tqdm in /usr/local/lib/python3.10/dist-packages (from dynamiqs==0.1.0) (4.66.1)\n",
            "Requirement already satisfied: torch>=2.0 in /usr/local/lib/python3.10/dist-packages (from dynamiqs==0.1.0) (2.1.0+cu121)\n",
            "Collecting methodtools (from dynamiqs==0.1.0)\n",
            "  Downloading methodtools-0.4.7.tar.gz (3.6 kB)\n",
            "  Preparing metadata (setup.py) ... \u001b[?25l\u001b[?25hdone\n",
            "Collecting cmasher (from dynamiqs==0.1.0)\n",
            "  Downloading cmasher-1.7.2-py3-none-any.whl (531 kB)\n",
            "\u001b[2K     \u001b[90m━━━━━━━━━━━━━━━━━━━━━━━━━━━━━━━━━━━━━━━━\u001b[0m \u001b[32m531.5/531.5 kB\u001b[0m \u001b[31m53.6 MB/s\u001b[0m eta \u001b[36m0:00:00\u001b[0m\n",
            "\u001b[?25hRequirement already satisfied: filelock in /usr/local/lib/python3.10/dist-packages (from torch>=2.0->dynamiqs==0.1.0) (3.13.1)\n",
            "Requirement already satisfied: typing-extensions in /usr/local/lib/python3.10/dist-packages (from torch>=2.0->dynamiqs==0.1.0) (4.9.0)\n",
            "Requirement already satisfied: sympy in /usr/local/lib/python3.10/dist-packages (from torch>=2.0->dynamiqs==0.1.0) (1.12)\n",
            "Requirement already satisfied: networkx in /usr/local/lib/python3.10/dist-packages (from torch>=2.0->dynamiqs==0.1.0) (3.2.1)\n",
            "Requirement already satisfied: jinja2 in /usr/local/lib/python3.10/dist-packages (from torch>=2.0->dynamiqs==0.1.0) (3.1.3)\n",
            "Requirement already satisfied: fsspec in /usr/local/lib/python3.10/dist-packages (from torch>=2.0->dynamiqs==0.1.0) (2023.6.0)\n",
            "Requirement already satisfied: triton==2.1.0 in /usr/local/lib/python3.10/dist-packages (from torch>=2.0->dynamiqs==0.1.0) (2.1.0)\n",
            "Collecting colorspacious>=1.1.0 (from cmasher->dynamiqs==0.1.0)\n",
            "  Downloading colorspacious-1.1.2-py2.py3-none-any.whl (37 kB)\n",
            "Requirement already satisfied: contourpy>=1.0.1 in /usr/local/lib/python3.10/dist-packages (from matplotlib->dynamiqs==0.1.0) (1.2.0)\n",
            "Requirement already satisfied: cycler>=0.10 in /usr/local/lib/python3.10/dist-packages (from matplotlib->dynamiqs==0.1.0) (0.12.1)\n",
            "Requirement already satisfied: fonttools>=4.22.0 in /usr/local/lib/python3.10/dist-packages (from matplotlib->dynamiqs==0.1.0) (4.48.1)\n",
            "Requirement already satisfied: kiwisolver>=1.0.1 in /usr/local/lib/python3.10/dist-packages (from matplotlib->dynamiqs==0.1.0) (1.4.5)\n",
            "Requirement already satisfied: packaging>=20.0 in /usr/local/lib/python3.10/dist-packages (from matplotlib->dynamiqs==0.1.0) (23.2)\n",
            "Requirement already satisfied: pillow>=6.2.0 in /usr/local/lib/python3.10/dist-packages (from matplotlib->dynamiqs==0.1.0) (9.4.0)\n",
            "Requirement already satisfied: pyparsing>=2.3.1 in /usr/local/lib/python3.10/dist-packages (from matplotlib->dynamiqs==0.1.0) (3.1.1)\n",
            "Requirement already satisfied: python-dateutil>=2.7 in /usr/local/lib/python3.10/dist-packages (from matplotlib->dynamiqs==0.1.0) (2.8.2)\n",
            "Collecting wirerope>=0.4.7 (from methodtools->dynamiqs==0.1.0)\n",
            "  Downloading wirerope-0.4.7.tar.gz (8.5 kB)\n",
            "  Installing build dependencies ... \u001b[?25l\u001b[?25hdone\n",
            "  Getting requirements to build wheel ... \u001b[?25l\u001b[?25hdone\n",
            "  Preparing metadata (pyproject.toml) ... \u001b[?25l\u001b[?25hdone\n",
            "Requirement already satisfied: scipy>=1.0 in /usr/local/lib/python3.10/dist-packages (from qutip->dynamiqs==0.1.0) (1.11.4)\n",
            "Requirement already satisfied: six>=1.5 in /usr/local/lib/python3.10/dist-packages (from python-dateutil>=2.7->matplotlib->dynamiqs==0.1.0) (1.16.0)\n",
            "Requirement already satisfied: MarkupSafe>=2.0 in /usr/local/lib/python3.10/dist-packages (from jinja2->torch>=2.0->dynamiqs==0.1.0) (2.1.5)\n",
            "Requirement already satisfied: mpmath>=0.19 in /usr/local/lib/python3.10/dist-packages (from sympy->torch>=2.0->dynamiqs==0.1.0) (1.3.0)\n",
            "Building wheels for collected packages: dynamiqs, methodtools, wirerope\n",
            "  Building wheel for dynamiqs (pyproject.toml) ... \u001b[?25l\u001b[?25hdone\n",
            "  Created wheel for dynamiqs: filename=dynamiqs-0.1.0-py2.py3-none-any.whl size=79265 sha256=ffbf200fd21921562fa9cd06abda56cc399e79d217d70b16fe1259229b3bc801\n",
            "  Stored in directory: /tmp/pip-ephem-wheel-cache-1fh6gc0p/wheels/ba/ad/6d/44dba5f9fa8f82b6a43ed2e5734dc4921f86cb83be400ec231\n",
            "  Building wheel for methodtools (setup.py) ... \u001b[?25l\u001b[?25hdone\n",
            "  Created wheel for methodtools: filename=methodtools-0.4.7-py3-none-any.whl size=3965 sha256=e5cf82122d96f881554cc9d808f92018a298a902705e14dfb7f54a07052b6943\n",
            "  Stored in directory: /root/.cache/pip/wheels/54/4a/b1/3622715dee5b0f97ae92b774cf70219200a6f0d69aafa0cc85\n",
            "  Building wheel for wirerope (pyproject.toml) ... \u001b[?25l\u001b[?25hdone\n",
            "  Created wheel for wirerope: filename=wirerope-0.4.7-py3-none-any.whl size=8968 sha256=57e9c0c3b205150bc209ea696839b694119005d7eaf48f1e206662fdc31af1b8\n",
            "  Stored in directory: /root/.cache/pip/wheels/3d/27/0c/b5fb8fa4e4f5f476207da8f779fc68c4e4c72da63e4b0db53d\n",
            "Successfully built dynamiqs methodtools wirerope\n",
            "Installing collected packages: wirerope, colorspacious, qutip, methodtools, cmasher, dynamiqs\n",
            "Successfully installed cmasher-1.7.2 colorspacious-1.1.2 dynamiqs-0.1.0 methodtools-0.4.7 qutip-4.7.5 wirerope-0.4.7\n"
          ]
        },
        {
          "name": "stderr",
          "output_type": "stream",
          "text": [
            "/usr/local/lib/python3.10/dist-packages/qutip/__init__.py:66: UserWarning: The new version of Cython, (>= 3.0.0) is not supported.\n",
            "  warnings.warn(\n"
          ]
        }
      ],
      "source": [
        "!pip install git+https://github.com/dynamiqs/dynamiqs.git\n",
        "import dynamiqs as dq\n",
        "import numpy as np\n",
        "import qutip as qt\n",
        "import torch"
      ]
    },
    {
      "cell_type": "code",
      "execution_count": 48,
      "metadata": {
        "id": "OXz7STHYXhu5"
      },
      "outputs": [],
      "source": [
        "## Spin parameters\n",
        "h    = 6.6260693e-34       # J.s\n",
        "mu_N = 5.0507836991e-27    # Nuclear magneton in J/T\n",
        "g_N  = 0.2355695           # g nuclear 183W (INDC International Nuclear Data Committee)\n",
        "mu_I = mu_N*g_N            # Nuclear magneton * g nuclear 183W  in J/T\n",
        "tau = 2*torch.pi           # two pi\n",
        "\n",
        "# Magnetic field\n",
        "B0 = 0.447 # T\n",
        "theta = 0*torch.pi/180 # rad\n",
        "phi = 0*torch.pi/180 # rad\n",
        "B_field = np.array([B0*np.sin(theta)*np.cos(phi), B0*np.sin(theta)*np.sin(phi), B0*np.cos(theta)])\n",
        "\n",
        "# omega_L = 2*torch.pi*mu_I/h*1e-6*B0 # rad/us\n",
        "omega_L = 790.40/1000*2*torch.pi\n",
        "\n",
        "# Hyperfine constants\n",
        "A = tau * 1e-3 * (-35.2)\n",
        "B = tau * 1e-3 * 70.4"
      ]
    },
    {
      "cell_type": "code",
      "execution_count": 64,
      "metadata": {
        "id": "EomcTm9OX8X9"
      },
      "outputs": [],
      "source": [
        "S = 1/2\n",
        "nS = int(2*S+1)\n",
        "Si = qt.qeye(nS)\n",
        "\n",
        "I = 1/2\n",
        "nI = int(2*I+1)\n",
        "Ii = qt.qeye(nI)\n",
        "\n",
        "Sx, Sy, Sz = qt.jmat(S)\n",
        "Sp, Sm = qt.spin_Jp(S), qt.spin_Jm(S)\n",
        "\n",
        "SxI, SyI, SzI = (qt.tensor(op, Ii) for op in (Sx,Sy,Sz))\n",
        "SpI, SmI = (qt.tensor(op, Ii) for op in (Sp,Sm))\n",
        "\n",
        "Ix, Iy, Iz = qt.jmat(I)\n",
        "Ip, Im = qt.spin_Jp(I), qt.spin_Jm(I)\n",
        "\n",
        "IIx, IIy, IIz = (qt.tensor(Si, op) for op in (Ix,Iy,Iz))\n",
        "IIp, IIm = (qt.tensor(Si, op) for op in (Ip,Im))\n",
        "\n",
        "H_NZ = qt.tensor(Si, omega_L*Iz)\n",
        "\n",
        "H_DD = A*qt.tensor(Sz,Iz) + B*qt.tensor(Sz, Ix)\n",
        "\n",
        "H0 = H_NZ + H_DD"
      ]
    },
    {
      "cell_type": "code",
      "execution_count": 65,
      "metadata": {
        "id": "mst9XZdINymL"
      },
      "outputs": [],
      "source": [
        "K00 = H0.eigenstates()[1][0]\n",
        "K10 = H0.eigenstates()[1][1]\n",
        "K01 = H0.eigenstates()[1][3]\n",
        "K11 = H0.eigenstates()[1][2]"
      ]
    },
    {
      "cell_type": "code",
      "execution_count": 66,
      "metadata": {
        "id": "u341kK4gSOMh"
      },
      "outputs": [],
      "source": [
        "torch.set_default_device('cuda')\n",
        "\n",
        "if type(H0) is not torch.Tensor:\n",
        "  H0 = dq.to_tensor(H0, dtype=torch.complex64, device='cuda:0')\n",
        "\n",
        "if type(K00) is not torch.Tensor:\n",
        "  K00, K10, K01, K11 = (dq.to_tensor(ket, dtype=torch.complex64, device='cuda:0') for ket in (K00, K10, K01, K11))\n",
        "\n",
        "if type(SxI) is not torch.Tensor:\n",
        "  SxI, SyI, SzI, SpI, SmI = (dq.to_tensor(op, dtype=torch.complex64, device='cuda:0') for op in (SxI, SyI, SzI, SpI, SmI))\n",
        "\n",
        "if type(IIx) is not torch.Tensor:\n",
        "  IIx, IIy, IIz, IIp, IIm = (dq.to_tensor(op, dtype=torch.complex64, device='cuda:0') for op in (IIx, IIy, IIz, IIp, IIm))"
      ]
    },
    {
      "cell_type": "code",
      "execution_count": 68,
      "metadata": {
        "colab": {
          "base_uri": "https://localhost:8080/"
        },
        "id": "B0wfOEqJd3Hs",
        "outputId": "479063ed-e2d9-467e-89bc-dc3335a4bff9"
      },
      "outputs": [
        {
          "data": {
            "text/plain": [
              "device(type='cuda', index=0)"
            ]
          },
          "execution_count": 68,
          "metadata": {},
          "output_type": "execute_result"
        }
      ],
      "source": [
        "H0.device"
      ]
    },
    {
      "cell_type": "code",
      "execution_count": 72,
      "metadata": {
        "id": "Rfj6hERbX90P"
      },
      "outputs": [],
      "source": [
        "omega_LO = 0\n",
        "\n",
        "def square_pulse(t, pulse_duration = 0, amplitude = 0, t0 = 0):\n",
        "    if t > (t0 - pulse_duration) and t < (t0 + pulse_duration):\n",
        "        return amplitude\n",
        "    else:\n",
        "        return 0\n",
        "\n",
        "def square_pulse_p(t, detuning = 0, phase = 0, **args):\n",
        "  return square_pulse(t, **args) * np.exp(+1j*((detuning+omega_LO)*t + phase))\n",
        "\n",
        "def square_pulse_m(t, detuning = 0, phase = 0, **args):\n",
        "  return square_pulse(t, **args) * np.exp(-1j*((detuning+omega_LO)*t + phase))"
      ]
    },
    {
      "cell_type": "code",
      "execution_count": 141,
      "metadata": {
        "id": "cK568CMsNIGV"
      },
      "outputs": [],
      "source": [
        "args = {\n",
        "    't0': 0,\n",
        "    'pulse_duration': 100,\n",
        "    'amplitude': 0.2,\n",
        "    'phase': 0,\n",
        "    'detuning': -0.1\n",
        "}"
      ]
    },
    {
      "cell_type": "code",
      "execution_count": 162,
      "metadata": {
        "colab": {
          "base_uri": "https://localhost:8080/"
        },
        "id": "qc6BTuVefvkR",
        "outputId": "5e88e20f-e5d3-4e3c-cfd4-3f3ea2a3710d"
      },
      "outputs": [
        {
          "name": "stderr",
          "output_type": "stream",
          "text": [
            "|██████████| 100.0% - time 00:05/00:00"
          ]
        },
        {
          "name": "stdout",
          "output_type": "stream",
          "text": [
            "==== Result ====\n",
            "Solver     : Dopri5\n",
            "Start      : 2024-02-11 01:04:24\n",
            "End        : 2024-02-11 01:04:30\n",
            "Total time : 5.47 s\n",
            "States     : Tensor (500, 1000, 4, 1) | 15.26 Mb\n",
            "Expects    : Tensor (500, 2, 1000) | 7.63 Mb\n"
          ]
        },
        {
          "name": "stderr",
          "output_type": "stream",
          "text": [
            "\n"
          ]
        }
      ],
      "source": [
        "torch.set_default_device('cpu')\n",
        "H0, SpI, SmI = H0.cpu(), SpI.cpu(), SmI.cpu()\n",
        "\n",
        "batch_n = 500\n",
        "detuning = A/2*torch.linspace(-4, 4, batch_n)\n",
        "args = {\n",
        "    't0': 0,\n",
        "    'pulse_duration': 100,\n",
        "    'amplitude': 0.2,\n",
        "    'phase': 0,\n",
        "    'detuning': detuning\n",
        "}\n",
        "\n",
        "def square_pulse(t, pulse_duration = 0, amplitude = 0, t0 = 0):\n",
        "    if t > (t0 - pulse_duration) and t < (t0 + pulse_duration):\n",
        "        return amplitude\n",
        "    else:\n",
        "        return 0\n",
        "\n",
        "def square_pulse_p(t, detuning = 0, phase = 0, **args):\n",
        "  return square_pulse(t, **args) * torch.exp(+1j*((detuning)*t + phase))\n",
        "\n",
        "def square_pulse_m(t, detuning = 0, phase = 0, **args):\n",
        "  return square_pulse(t, **args) * torch.exp(-1j*((detuning)*t + phase))\n",
        "\n",
        "def H_args(t, batch_n, **args):\n",
        "  return H0.repeat(batch_n,1,1) + square_pulse_p(t, **args).view(-1,1,1)*SpI.repeat(batch_n,1,1) + square_pulse_m(t, **args).view(-1,1,1)*SmI.repeat(batch_n,1,1)\n",
        "\n",
        "H = dq.totime(lambda t: H_args(t, batch_n, **args), dtype=torch.complex64)\n",
        "\n",
        "tlist = np.linspace(0, 50, 1000)\n",
        "psi0 = K10.cpu()\n",
        "\n",
        "result = dq.sesolve(H, psi0, tlist, exp_ops = [SpI@SmI, IIp@IIm])\n",
        "print(result)"
      ]
    },
    {
      "cell_type": "code",
      "execution_count": 119,
      "metadata": {
        "colab": {
          "base_uri": "https://localhost:8080/"
        },
        "id": "BuiIEsBeh1MA",
        "outputId": "9b9b2b1b-6e6c-41fb-f0e2-dfbe5740ab9d"
      },
      "outputs": [
        {
          "data": {
            "text/plain": [
              "tensor([1.0000+0.j, 0.9898+0.j, 0.9598+0.j, 0.9111+0.j, 0.8457+0.j, 0.7663+0.j, 0.6761+0.j,\n",
              "        0.5788+0.j, 0.4782+0.j, 0.3786+0.j, 0.2839+0.j, 0.1980+0.j, 0.1244+0.j, 0.0660+0.j,\n",
              "        0.0253+0.j, 0.0039+0.j, 0.0026+0.j, 0.0216+0.j, 0.0601+0.j, 0.1163+0.j, 0.1883+0.j,\n",
              "        0.2728+0.j, 0.3667+0.j, 0.4659+0.j, 0.5666+0.j, 0.6645+0.j, 0.7558+0.j, 0.8367+0.j,\n",
              "        0.9040+0.j, 0.9548+0.j, 0.9872+0.j, 0.9998+0.j, 0.9922+0.j, 0.9645+0.j, 0.9180+0.j,\n",
              "        0.8545+0.j, 0.7767+0.j, 0.6876+0.j, 0.5909+0.j, 0.4905+0.j, 0.3906+0.j, 0.2950+0.j,\n",
              "        0.2079+0.j, 0.1326+0.j, 0.0722+0.j, 0.0293+0.j, 0.0054+0.j, 0.0017+0.j, 0.0182+0.j,\n",
              "        0.0544+0.j, 0.1086+0.j, 0.1787+0.j, 0.2619+0.j, 0.3548+0.j, 0.4536+0.j, 0.5543+0.j,\n",
              "        0.6528+0.j, 0.7451+0.j, 0.8275+0.j, 0.8966+0.j, 0.9496+0.j, 0.9843+0.j, 0.9994+0.j,\n",
              "        0.9942+0.j, 0.9689+0.j, 0.9246+0.j, 0.8631+0.j, 0.7868+0.j, 0.6989+0.j, 0.6030+0.j,\n",
              "        0.5028+0.j, 0.4026+0.j, 0.3063+0.j, 0.2179+0.j, 0.1410+0.j, 0.0787+0.j, 0.0335+0.j,\n",
              "        0.0073+0.j, 0.0011+0.j, 0.0152+0.j, 0.0489+0.j, 0.1011+0.j, 0.1694+0.j, 0.2512+0.j,\n",
              "        0.3431+0.j, 0.4414+0.j, 0.5420+0.j, 0.6410+0.j, 0.7343+0.j, 0.8181+0.j, 0.8889+0.j,\n",
              "        0.9440+0.j, 0.9811+0.j, 0.9986+0.j, 0.9959+0.j, 0.9730+0.j, 0.9310+0.j, 0.8714+0.j,\n",
              "        0.7968+0.j, 0.7102+0.j])"
            ]
          },
          "execution_count": 119,
          "metadata": {},
          "output_type": "execute_result"
        }
      ],
      "source": [
        "result.expects[0]"
      ]
    },
    {
      "cell_type": "code",
      "execution_count": 163,
      "metadata": {
        "colab": {
          "base_uri": "https://localhost:8080/"
        },
        "id": "pozHGB_9bja7",
        "outputId": "40831d08-a47a-4e68-f5de-6cff1f8cd1eb"
      },
      "outputs": [
        {
          "name": "stderr",
          "output_type": "stream",
          "text": [
            "|██████████| 100.0% - time 00:05/00:00"
          ]
        },
        {
          "name": "stdout",
          "output_type": "stream",
          "text": [
            "==== Result ====\n",
            "Solver     : Dopri5\n",
            "Start      : 2024-02-11 01:04:42\n",
            "End        : 2024-02-11 01:04:48\n",
            "Total time : 6.00 s\n",
            "States     : Tensor (500, 1000, 4, 1) | 15.26 Mb\n",
            "Expects    : Tensor (500, 2, 1000) | 7.63 Mb\n"
          ]
        },
        {
          "name": "stderr",
          "output_type": "stream",
          "text": [
            "\n"
          ]
        }
      ],
      "source": [
        "torch.set_default_device('cuda')\n",
        "H0, SpI, SmI = H0.cuda(), SpI.cuda(), SmI.cuda()\n",
        "\n",
        "batch_n = 500\n",
        "detuning = A/2*torch.linspace(-4, 4, batch_n)\n",
        "args = {\n",
        "    't0': 0,\n",
        "    'pulse_duration': 100,\n",
        "    'amplitude': 0.2,\n",
        "    'phase': 0,\n",
        "    'detuning': detuning\n",
        "}\n",
        "\n",
        "omega_LO = 0\n",
        "\n",
        "def square_pulse(t, pulse_duration = 0, amplitude = 0, t0 = 0):\n",
        "    if t > (t0 - pulse_duration) and t < (t0 + pulse_duration):\n",
        "        return amplitude\n",
        "    else:\n",
        "        return 0\n",
        "\n",
        "def square_pulse_p(t, detuning = 0, phase = 0, **args):\n",
        "  return square_pulse(t, **args) * torch.exp(+1j*((detuning+omega_LO)*t + phase))\n",
        "\n",
        "def square_pulse_m(t, detuning = 0, phase = 0, **args):\n",
        "  return square_pulse(t, **args) * torch.exp(-1j*((detuning+omega_LO)*t + phase))\n",
        "\n",
        "def H_args(t, batch_n, **args):\n",
        "  return H0.repeat(batch_n,1,1) + square_pulse_p(t, **args).view(-1,1,1)*SpI.repeat(batch_n,1,1) + square_pulse_m(t, **args).view(-1,1,1)*SmI.repeat(batch_n,1,1)\n",
        "\n",
        "H = dq.totime(lambda t: H_args(t, batch_n, **args), dtype=torch.complex64)\n",
        "\n",
        "tlist = np.linspace(0, 50, 1000)\n",
        "psi0 = K10.cuda()\n",
        "\n",
        "result = dq.sesolve(H, psi0, tlist, exp_ops = [SpI@SmI, IIp@IIm])\n",
        "print(result)"
      ]
    },
    {
      "cell_type": "code",
      "execution_count": 151,
      "metadata": {
        "colab": {
          "base_uri": "https://localhost:8080/"
        },
        "id": "D3ts18IgqyOx",
        "outputId": "6f30b468-0c0d-4745-9554-c975013c6b52"
      },
      "outputs": [
        {
          "data": {
            "text/plain": [
              "tensor([-0.5979-0.8016j, -0.5232-0.8522j, -0.4443-0.8959j, -0.3617-0.9323j,\n",
              "        -0.2762-0.9611j, -0.1884-0.9821j, -0.0991-0.9951j, -0.0090-1.0000j,\n",
              "         0.0812-0.9967j,  0.1707-0.9853j,  0.2589-0.9659j,  0.3449-0.9386j,\n",
              "         0.4281-0.9037j,  0.5078-0.8615j,  0.5834-0.8122j,  0.6543-0.7563j,\n",
              "         0.7198-0.6942j,  0.7794-0.6265j,  0.8327-0.5537j,  0.8793-0.4764j,\n",
              "         0.9186-0.3951j,  0.9505-0.3107j,  0.9746-0.2238j,  0.9908-0.1350j,\n",
              "         0.9990-0.0451j,  0.9990+0.0451j,  0.9908+0.1350j,  0.9746+0.2238j,\n",
              "         0.9505+0.3107j,  0.9186+0.3951j,  0.8793+0.4764j,  0.8327+0.5537j,\n",
              "         0.7794+0.6265j,  0.7198+0.6942j,  0.6543+0.7563j,  0.5834+0.8122j,\n",
              "         0.5078+0.8615j,  0.4281+0.9037j,  0.3449+0.9386j,  0.2589+0.9659j,\n",
              "         0.1707+0.9853j,  0.0812+0.9967j, -0.0090+1.0000j, -0.0991+0.9951j,\n",
              "        -0.1884+0.9821j, -0.2762+0.9611j, -0.3617+0.9323j, -0.4443+0.8959j,\n",
              "        -0.5232+0.8522j, -0.5979+0.8016j])"
            ]
          },
          "execution_count": 151,
          "metadata": {},
          "output_type": "execute_result"
        }
      ],
      "source": [
        "batch_n = 50\n",
        "detuning = A/2*torch.linspace(-4, 4, batch_n)\n",
        "t=5\n",
        "phase=0\n",
        "torch.exp(-1j*((detuning+omega_LO)*t + phase))"
      ]
    },
    {
      "cell_type": "code",
      "execution_count": 157,
      "metadata": {
        "colab": {
          "base_uri": "https://localhost:8080/"
        },
        "id": "tIEj2WJwddDG",
        "outputId": "f597222a-7d65-414f-a98a-9f3381de7930"
      },
      "outputs": [
        {
          "data": {
            "text/plain": [
              "tensor([[[ 2.4278+0.j,  0.1106+0.j,  0.0000+0.j,  0.0000+0.j],\n",
              "         [ 0.1106+0.j, -2.4278+0.j,  0.0000+0.j,  0.0000+0.j],\n",
              "         [ 0.0000+0.j,  0.0000+0.j,  2.5384+0.j, -0.1106+0.j],\n",
              "         [ 0.0000+0.j,  0.0000+0.j, -0.1106+0.j, -2.5384+0.j]],\n",
              "\n",
              "        [[ 2.4278+0.j,  0.1106+0.j,  0.0000+0.j,  0.0000+0.j],\n",
              "         [ 0.1106+0.j, -2.4278+0.j,  0.0000+0.j,  0.0000+0.j],\n",
              "         [ 0.0000+0.j,  0.0000+0.j,  2.5384+0.j, -0.1106+0.j],\n",
              "         [ 0.0000+0.j,  0.0000+0.j, -0.1106+0.j, -2.5384+0.j]],\n",
              "\n",
              "        [[ 2.4278+0.j,  0.1106+0.j,  0.0000+0.j,  0.0000+0.j],\n",
              "         [ 0.1106+0.j, -2.4278+0.j,  0.0000+0.j,  0.0000+0.j],\n",
              "         [ 0.0000+0.j,  0.0000+0.j,  2.5384+0.j, -0.1106+0.j],\n",
              "         [ 0.0000+0.j,  0.0000+0.j, -0.1106+0.j, -2.5384+0.j]],\n",
              "\n",
              "        [[ 2.4278+0.j,  0.1106+0.j,  0.0000+0.j,  0.0000+0.j],\n",
              "         [ 0.1106+0.j, -2.4278+0.j,  0.0000+0.j,  0.0000+0.j],\n",
              "         [ 0.0000+0.j,  0.0000+0.j,  2.5384+0.j, -0.1106+0.j],\n",
              "         [ 0.0000+0.j,  0.0000+0.j, -0.1106+0.j, -2.5384+0.j]],\n",
              "\n",
              "        [[ 2.4278+0.j,  0.1106+0.j,  0.0000+0.j,  0.0000+0.j],\n",
              "         [ 0.1106+0.j, -2.4278+0.j,  0.0000+0.j,  0.0000+0.j],\n",
              "         [ 0.0000+0.j,  0.0000+0.j,  2.5384+0.j, -0.1106+0.j],\n",
              "         [ 0.0000+0.j,  0.0000+0.j, -0.1106+0.j, -2.5384+0.j]]],\n",
              "       device='cuda:0')"
            ]
          },
          "execution_count": 157,
          "metadata": {},
          "output_type": "execute_result"
        }
      ],
      "source": [
        "H0.repeat(5,1,1)"
      ]
    },
    {
      "cell_type": "code",
      "execution_count": 125,
      "metadata": {
        "colab": {
          "base_uri": "https://localhost:8080/"
        },
        "id": "4H0K_U56ihCr",
        "outputId": "016b9ce9-375f-4b2f-fcbd-6a89c7d6c80b"
      },
      "outputs": [
        {
          "data": {
            "text/plain": [
              "tensor([[[ 2.4278+0.j,  0.1106+0.j,  1.0000+0.j,  0.0000+0.j],\n",
              "         [ 0.1106+0.j, -2.4278+0.j,  0.0000+0.j,  1.0000+0.j],\n",
              "         [ 0.0000+0.j,  0.0000+0.j,  2.5384+0.j, -0.1106+0.j],\n",
              "         [ 0.0000+0.j,  0.0000+0.j, -0.1106+0.j, -2.5384+0.j]],\n",
              "\n",
              "        [[ 2.4278+0.j,  0.1106+0.j,  1.0000+0.j,  0.0000+0.j],\n",
              "         [ 0.1106+0.j, -2.4278+0.j,  0.0000+0.j,  1.0000+0.j],\n",
              "         [ 0.0000+0.j,  0.0000+0.j,  2.5384+0.j, -0.1106+0.j],\n",
              "         [ 0.0000+0.j,  0.0000+0.j, -0.1106+0.j, -2.5384+0.j]]])"
            ]
          },
          "execution_count": 125,
          "metadata": {},
          "output_type": "execute_result"
        }
      ],
      "source": [
        "torch.stack([H0, H0])+torch.stack([SpI, SpI])"
      ]
    },
    {
      "cell_type": "code",
      "execution_count": 136,
      "metadata": {
        "colab": {
          "base_uri": "https://localhost:8080/"
        },
        "id": "lqez21toeoY3",
        "outputId": "70e91dec-aea0-45aa-f499-d6101ee7c029"
      },
      "outputs": [
        {
          "data": {
            "text/plain": [
              "tensor([[[ 2.4278+0.j,  0.1106+0.j,  0.0000+0.j,  0.0000+0.j],\n",
              "         [ 0.1106+0.j, -2.4278+0.j,  0.0000+0.j,  0.0000+0.j],\n",
              "         [ 0.0000+0.j,  0.0000+0.j,  2.5384+0.j, -0.1106+0.j],\n",
              "         [ 0.0000+0.j,  0.0000+0.j, -0.1106+0.j, -2.5384+0.j]],\n",
              "\n",
              "        [[ 2.4278+0.j,  0.1106+0.j,  0.0000+0.j,  0.0000+0.j],\n",
              "         [ 0.1106+0.j, -2.4278+0.j,  0.0000+0.j,  0.0000+0.j],\n",
              "         [ 0.0000+0.j,  0.0000+0.j,  2.5384+0.j, -0.1106+0.j],\n",
              "         [ 0.0000+0.j,  0.0000+0.j, -0.1106+0.j, -2.5384+0.j]]])"
            ]
          },
          "execution_count": 136,
          "metadata": {},
          "output_type": "execute_result"
        }
      ],
      "source": [
        "torch.stack([H0, H0])"
      ]
    },
    {
      "cell_type": "code",
      "execution_count": 140,
      "metadata": {
        "colab": {
          "base_uri": "https://localhost:8080/"
        },
        "id": "HFo64pAykRhs",
        "outputId": "e1262076-fbb7-4aae-ee7e-1798c6411538"
      },
      "outputs": [
        {
          "data": {
            "text/plain": [
              "tensor([[[ 2.4278+0.j,  0.1106+0.j,  0.0000+0.j,  0.0000+0.j],\n",
              "         [ 0.1106+0.j, -2.4278+0.j,  0.0000+0.j,  0.0000+0.j],\n",
              "         [ 0.0000+0.j,  0.0000+0.j,  2.5384+0.j, -0.1106+0.j],\n",
              "         [ 0.0000+0.j,  0.0000+0.j, -0.1106+0.j, -2.5384+0.j]],\n",
              "\n",
              "        [[ 4.8556+0.j,  0.2212+0.j,  0.0000+0.j,  0.0000+0.j],\n",
              "         [ 0.2212+0.j, -4.8556+0.j,  0.0000+0.j,  0.0000+0.j],\n",
              "         [ 0.0000+0.j,  0.0000+0.j,  5.0768+0.j, -0.2212+0.j],\n",
              "         [ 0.0000+0.j,  0.0000+0.j, -0.2212+0.j, -5.0768+0.j]]])"
            ]
          },
          "execution_count": 140,
          "metadata": {},
          "output_type": "execute_result"
        }
      ],
      "source": [
        "torch.tensor([1,2]).view(-1, 1, 1)*torch.stack([H0, H0])"
      ]
    },
    {
      "cell_type": "code",
      "execution_count": 132,
      "metadata": {
        "colab": {
          "base_uri": "https://localhost:8080/"
        },
        "id": "VkTwuk0dkbtA",
        "outputId": "d4ed0e5d-c407-43d1-b83e-6b8f067a2665"
      },
      "outputs": [
        {
          "name": "stdout",
          "output_type": "stream",
          "text": [
            "Result of multiplication:\n",
            " tensor([[1, 4],\n",
            "        [3, 8]])\n"
          ]
        }
      ],
      "source": [
        "# Define the 2D tensor\n",
        "tensor_2d = torch.tensor([[1, 2], [3, 4]])\n",
        "\n",
        "# Define the 1D tensor\n",
        "tensor_1d = torch.tensor([1, 2])\n",
        "\n",
        "# Reshape tensor_1d to make it compatible for broadcasting with tensor_2d\n",
        "# We add an extra dimension at the end to make it a column vector\n",
        "tensor_1d_reshaped = tensor_1d.view(-1, 1)\n",
        "\n",
        "# Perform element-wise multiplication with broadcasting\n",
        "result = tensor_2d * tensor_1d_reshaped.T\n",
        "\n",
        "print(\"Result of multiplication:\\n\", result)"
      ]
    },
    {
      "cell_type": "code",
      "execution_count": 138,
      "metadata": {
        "colab": {
          "base_uri": "https://localhost:8080/"
        },
        "id": "4NufKn1mlLvW",
        "outputId": "969235f4-94ac-4382-bdea-ff1883b7ee79"
      },
      "outputs": [
        {
          "data": {
            "text/plain": [
              "tensor([[1],\n",
              "        [2]])"
            ]
          },
          "execution_count": 138,
          "metadata": {},
          "output_type": "execute_result"
        }
      ],
      "source": [
        "tensor_1d_reshaped"
      ]
    },
    {
      "cell_type": "code",
      "execution_count": null,
      "metadata": {
        "id": "jtonAwrClP6v"
      },
      "outputs": [],
      "source": []
    }
  ],
  "metadata": {
    "accelerator": "GPU",
    "colab": {
      "gpuType": "T4",
      "provenance": []
    },
    "kernelspec": {
      "display_name": "Python 3",
      "name": "python3"
    },
    "language_info": {
      "name": "python"
    }
  },
  "nbformat": 4,
  "nbformat_minor": 0
}
