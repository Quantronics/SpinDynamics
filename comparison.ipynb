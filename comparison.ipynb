{
 "cells": [
  {
   "cell_type": "code",
   "execution_count": 89,
   "metadata": {},
   "outputs": [],
   "source": [
    "from multiprocessing import cpu_count\n",
    "\n",
    "import jax.numpy as jnp\n",
    "import jax.lax as lax\n",
    "import jax\n",
    "\n",
    "import dynamiqs as dq\n",
    "import qutip as qt\n",
    "\n",
    "import matplotlib.pyplot as plt\n",
    "import seaborn as sns\n",
    "import pandas as pd\n",
    "import numpy as np\n",
    "\n",
    "jax.config.update(\"jax_enable_x64\", True)\n",
    "pd.set_option('display.max_rows', None)\n",
    "worker_count = max(cpu_count() - 1, 1)"
   ]
  },
  {
   "cell_type": "code",
   "execution_count": 2,
   "metadata": {},
   "outputs": [],
   "source": [
    "## Spin parameters\n",
    "h    = 6.6260693e-34       # J.s\n",
    "mu_N = 5.0507836991e-27    # Nuclear magneton in J/T\n",
    "g_N  = 0.2355695           # g nuclear 183W (INDC International Nuclear Data Committee)\n",
    "mu_I = mu_N*g_N            # Nuclear magneton * g nuclear 183W  in J/T\n",
    "tau = 2*np.pi              # two pi\n",
    "\n",
    "# Magnetic field\n",
    "B0 = 0.447 # T\n",
    "theta = 0*np.pi/180 # rad\n",
    "phi = 0*np.pi/180 # rad\n",
    "B_field = np.array([B0*np.sin(theta)*np.cos(phi), B0*np.sin(theta)*np.sin(phi), B0*np.cos(theta)])\n",
    "\n",
    "# omega_L = 2*np.pi*mu_I/h*1e-6*B0 # rad/us\n",
    "omega_L = 790.40/1000*2*np.pi\n",
    "\n",
    "# Hyperfine constants\n",
    "A = tau * 1e-3 * (-35.2)\n",
    "B = tau * 1e-3 * 70.4"
   ]
  },
  {
   "cell_type": "code",
   "execution_count": 3,
   "metadata": {},
   "outputs": [],
   "source": [
    "S = 1/2\n",
    "nS = int(2*S+1)\n",
    "Si = qt.qeye(nS)\n",
    "\n",
    "I = 1/2\n",
    "nI = int(2*I+1)\n",
    "Ii = qt.qeye(nI)\n",
    "\n",
    "Sx, Sy, Sz = qt.jmat(S)\n",
    "Sp, Sm = qt.spin_Jp(S), qt.spin_Jm(S)\n",
    "\n",
    "SxI, SyI, SzI = (qt.tensor(op, Ii) for op in (Sx,Sy,Sz))\n",
    "SpI, SmI = (qt.tensor(op, Ii) for op in (Sp,Sm))\n",
    "\n",
    "Ix, Iy, Iz = qt.jmat(I)\n",
    "Ip, Im = qt.spin_Jp(I), qt.spin_Jm(I)\n",
    "\n",
    "IIx, IIy, IIz = (qt.tensor(Si, op) for op in (Ix,Iy,Iz))\n",
    "IIp, IIm = (qt.tensor(Si, op) for op in (Ip,Im))\n",
    "\n",
    "H_NZ = qt.tensor(Si, omega_L*Iz)\n",
    "\n",
    "H_DD = A*qt.tensor(Sz,Iz) + B*qt.tensor(Sz, Ix)\n",
    "\n",
    "H0 = H_NZ + H_DD\n",
    "\n",
    "K00 = H0.eigenstates()[1][0]\n",
    "K10 = H0.eigenstates()[1][1]\n",
    "K01 = H0.eigenstates()[1][3]\n",
    "K11 = H0.eigenstates()[1][2]"
   ]
  },
  {
   "cell_type": "code",
   "execution_count": 83,
   "metadata": {},
   "outputs": [],
   "source": [
    "jH0 = jnp.array(H0.full())\n",
    "\n",
    "jK00, jK10, jK01, jK11 = (jnp.array(ket.full()) for ket in (K00, K10, K01, K11))\n",
    "\n",
    "jSxI, jSyI, jSzI, jSpI, jSmI = (jnp.array(op.full()) for op in (SxI, SyI, SzI, SpI, SmI))\n",
    "\n",
    "jIIx, jIIy, jIIz, jIIp, jIIm = (jnp.array(op.full()) for op in (IIx, IIy, IIz, IIp, IIm))"
   ]
  },
  {
   "cell_type": "code",
   "execution_count": 84,
   "metadata": {},
   "outputs": [],
   "source": [
    "pulse_duration = 10000\n",
    "timesteps = pulse_duration//5\n",
    "\n",
    "raman_detuning = 1.4*tau\n",
    "\n",
    "arg1 = {\n",
    "    't0': 0,\n",
    "    'pulse_duration': pulse_duration,\n",
    "    'amplitude': 0.8,\n",
    "    'phase': 0,\n",
    "    'detuning': 13.877717976716323\n",
    "}\n",
    "\n",
    "arg2 = {\n",
    "    't0': 0,\n",
    "    'pulse_duration': pulse_duration,\n",
    "    'amplitude': 0.5,\n",
    "    'phase': 0,\n",
    "    'detuning': raman_detuning\n",
    "}\n",
    "\n",
    "def j_square_pulse(t, pulse_duration = 0, amplitude = 0, t0 = 0):\n",
    "    return jnp.where((t >= t0) & (t < (t0 + pulse_duration)), amplitude/2, 0)\n",
    "\n",
    "def j_square_pulse_p(t, detuning=0, phase = 0, **args):\n",
    "  return j_square_pulse(t, **args) * jnp.exp(+1j*(t*detuning+phase))\n",
    "\n",
    "def j_square_pulse_m(t, detuning=0, phase = 0, **args):\n",
    "  return j_square_pulse(t, **args) * jnp.exp(-1j*(t*detuning+phase))\n",
    "\n",
    "def H_args(t, arg1, arg2):\n",
    "  return jH0+j_square_pulse_p(t, **arg1)*jSpI + j_square_pulse_m(t, **arg1)*jSmI + j_square_pulse_p(t, **arg2)*jSpI + j_square_pulse_m(t, **arg2)*jSmI\n",
    "\n",
    "Ht = lambda t: H_args(t, arg1, arg2)\n",
    "\n",
    "psi = jK00\n",
    "tsave = jnp.linspace(0, pulse_duration, timesteps)\n",
    "solver=dq.solver.Tsit5(max_steps=1_000_000_000, atol=1e-8)\n",
    "H = dq.timecallable(Ht)\n",
    "\n",
    "j_raman_results  = dq.sesolve(H, psi, tsave, exp_ops=[jSpI@jSmI, jIIp@jIIm], solver=solver)"
   ]
  },
  {
   "cell_type": "code",
   "execution_count": 85,
   "metadata": {},
   "outputs": [],
   "source": [
    "pulse_duration = 10000\n",
    "timesteps = pulse_duration//5\n",
    "\n",
    "raman_detuning = 1.4*tau\n",
    "\n",
    "arg1 = {\n",
    "    't0': 0,\n",
    "    'pulse_duration': pulse_duration,\n",
    "    'amplitude': 0.8,\n",
    "    'phase': 0,\n",
    "    'detuning': 13.877717976716323\n",
    "}\n",
    "\n",
    "arg2 = {\n",
    "    't0': 0,\n",
    "    'pulse_duration': pulse_duration,\n",
    "    'amplitude': 0.5,\n",
    "    'phase': 0,\n",
    "    'detuning': raman_detuning\n",
    "}\n",
    "\n",
    "def qt_square_pulse(t, args):\n",
    "    t0, pulse_duration, amplitude = args['t0'], args['pulse_duration'], args['amplitude']\n",
    "    return np.where((t >= t0) & (t < (t0 + pulse_duration)), amplitude/2, 0)\n",
    "\n",
    "def qt_square_pulse_p(t, args): \n",
    "    omega = 0\n",
    "\n",
    "    for arg in args['pulse_args']:\n",
    "        phase, detuning = arg['phase'], arg['detuning']\n",
    "        omega += qt_square_pulse(t, arg) * np.exp(+1j*(t*detuning+phase))\n",
    "\n",
    "    return omega\n",
    "\n",
    "def qt_square_pulse_m(t, args):\n",
    "    omega = 0\n",
    "\n",
    "    for arg in args['pulse_args']:\n",
    "        phase, detuning = arg['phase'], arg['detuning']\n",
    "        omega += qt_square_pulse(t, arg) * np.exp(-1j*(t*detuning+phase))\n",
    "\n",
    "    return omega\n",
    "\n",
    "H_square_p = [SpI, qt_square_pulse_p]\n",
    "H_square_m = [SmI, qt_square_pulse_m]\n",
    "\n",
    "psi = K00\n",
    "tsave = np.linspace(0, pulse_duration, timesteps)\n",
    "# options = qt.Options(nsteps=1_000_000_000, atol=1e-8)\n",
    "options = qt.Options()\n",
    "H = [H0, H_square_p, H_square_m]\n",
    "\n",
    "qt_raman_results = qt.sesolve(H, psi, tsave, e_ops=[SpI*SmI, IIp*IIm], args={'pulse_args': [arg1, arg2]}, options=options)"
   ]
  },
  {
   "cell_type": "code",
   "execution_count": 88,
   "metadata": {},
   "outputs": [
    {
     "name": "stdout",
     "output_type": "stream",
     "text": [
      "[0.00047379 0.00046768 0.00044807 0.00041328 0.00036586 0.00031521\n",
      " 0.00027581 0.00026212 0.00028381 0.00034391]\n",
      "[0.00047379 0.00046768 0.00044807 0.00041328 0.00036586 0.00031521\n",
      " 0.00027581 0.00026212 0.00028381 0.00034391]\n"
     ]
    },
    {
     "data": {
      "text/plain": [
       "True"
      ]
     },
     "execution_count": 88,
     "metadata": {},
     "output_type": "execute_result"
    },
    {
     "data": {
      "image/png": "[encoded data removed]",
      "text/plain": [
       "<Figure size 1000x600 with 1 Axes>"
      ]
     },
     "metadata": {},
     "output_type": "display_data"
    }
   ],
   "source": [
    "X = tsave\n",
    "Y1 = qt_raman_results.expect[1]\n",
    "Y2 = lax.real(j_raman_results.expects[1])\n",
    "\n",
    "fig, axes = plt.subplots(1, 1, figsize=(10, 6))\n",
    "\n",
    "axes.plot(X, Y1)\n",
    "axes.plot(X, Y2)\n",
    "\n",
    "print(Y1[:10])\n",
    "print(Y2[:10])\n",
    "np.allclose(Y1, Y2, atol=1e-3, rtol=1e-3)"
   ]
  },
  {
   "cell_type": "code",
   "execution_count": 42,
   "metadata": {},
   "outputs": [],
   "source": [
    "def create_op(Nr, Ni, resonator = None, electron = None, nuclear = (None, None)):\n",
    "    resonator = resonator or qt.qeye(Nr)\n",
    "    electron = electron or qt.qeye(2)\n",
    "\n",
    "    nuclear_op, nuclear_index = nuclear\n",
    "    nuclear = [qt.qeye(2) for _ in range(Ni)]\n",
    "\n",
    "    if nuclear_op and nuclear_index:\n",
    "        nuclear[nuclear_index] = nuclear_op\n",
    "\n",
    "    print(nuclear)\n",
    "\n",
    "    if Nr < 2:\n",
    "        return qt.tensor(electron, *nuclear)\n",
    "    else:\n",
    "        return qt.tensor(resonator, electron, *nuclear)"
   ]
  },
  {
   "cell_type": "code",
   "execution_count": 124,
   "metadata": {},
   "outputs": [],
   "source": [
    "wr = 1e-1 * tau # resonator frequency\n",
    "we = 0 * tau # electron frequency\n",
    "wi = 1 * tau # nuclear frequency\n",
    "g = 1 # coupling strength\n",
    "\n",
    "Nr = 0 # resonator levels\n",
    "Ni = 1 # number of nucli\n",
    "\n",
    "a = create_op(Nr, Ni, resonator=qt.destroy(Nr))\n",
    "em = create_op(Nr, Ni, electron=qt.sigmam())\n",
    "ix, iy, iz = [create_op(Nr, Ni, nuclear=(qt.sigmax(), i)) for i in range(Ni)], [create_op(Nr, Ni, nuclear=(qt.sigmay(), i)) for i in range(Ni)], [create_op(Nr, Ni, nuclear=(qt.sigmaz(), i)) for i in range(Ni)]\n",
    "im = [create_op(Nr, Ni, nuclear=(qt.sigmam(), i)) for i in range(Ni)]"
   ]
  },
  {
   "cell_type": "code",
   "execution_count": 125,
   "metadata": {},
   "outputs": [
    {
     "data": {
      "text/latex": [
       "Quantum object: dims = [[2, 2], [2, 2]], shape = (4, 4), type = oper, isherm = True $ \\\\ \\left(\\begin{matrix}7.112 & 0.0 & 2.0 & 0.0\\\\0.0 & 7.112 & 0.0 & 2.0\\\\2.0 & 0.0 & 6.712 & 0.0\\\\0.0 & 2.0 & 0.0 & 6.712\\\\\\end{matrix}\\right)$"
      ],
      "text/plain": [
       "Quantum object: dims = [[2, 2], [2, 2]], shape = (4, 4), type = oper, isherm = True\n",
       "Qobj data =\n",
       "[[7.11150384 0.         2.         0.        ]\n",
       " [0.         7.11150384 0.         2.        ]\n",
       " [2.         0.         6.71150384 0.        ]\n",
       " [0.         2.         0.         6.71150384]]"
      ]
     },
     "execution_count": 125,
     "metadata": {},
     "output_type": "execute_result"
    }
   ],
   "source": [
    "A, dA = -0.2, -0.01\n",
    "B, dB = 0.4, 0.02\n",
    "\n",
    "# Resonator Hamiltonian\n",
    "H_R = wr*a.dag()*a\n",
    "\n",
    "# Electron Zeeman coupling\n",
    "H_EZ = we*create_op(Nr, Ni, electron=qt.sigmaz())\n",
    "                    \n",
    "# Electron-Resonator coupling\n",
    "H_ER = g*(a.dag() + a)*(em + em.dag())\n",
    "\n",
    "# Nuclear Zeeman coupling\n",
    "# H_NZ = qt.tensor(Si, omega_L*Iz)\n",
    "H_NZ = sum([wi*op for op in iz])\n",
    "\n",
    "# Fine structure coupling\n",
    "# H_DD = A*qt.tensor(Sz,Iz) + B*qt.tensor(Sz, Ix)\n",
    "H_DD = sum([(A-dA*i)*create_op(Nr, Ni, nuclear=(qt.sigmaz(), i), electron=qt.sigmaz()) + (B-dB*i)*create_op(Nr, Ni, nuclear=(qt.sigmax(), i), electron=qt.sigmaz()) for i in range(Ni)])\n",
    "\n",
    "H0 = H_R + H_EZ + H_ER + H_NZ + H_DD\n",
    "H0"
   ]
  },
  {
   "cell_type": "code",
   "execution_count": 126,
   "metadata": {},
   "outputs": [],
   "source": [
    "ev, es = H0.eigenstates()"
   ]
  },
  {
   "cell_type": "code",
   "execution_count": 132,
   "metadata": {},
   "outputs": [
    {
     "data": {
      "text/html": [
       "<div>\n",
       "<style scoped>\n",
       "    .dataframe tbody tr th:only-of-type {\n",
       "        vertical-align: middle;\n",
       "    }\n",
       "\n",
       "    .dataframe tbody tr th {\n",
       "        vertical-align: top;\n",
       "    }\n",
       "\n",
       "    .dataframe thead th {\n",
       "        text-align: right;\n",
       "    }\n",
       "</style>\n",
       "<table border=\"1\" class=\"dataframe\">\n",
       "  <thead>\n",
       "    <tr style=\"text-align: right;\">\n",
       "      <th></th>\n",
       "      <th># photons</th>\n",
       "      <th>electron</th>\n",
       "      <th>i0z</th>\n",
       "    </tr>\n",
       "  </thead>\n",
       "  <tbody>\n",
       "    <tr>\n",
       "      <th>0</th>\n",
       "      <td>1.0</td>\n",
       "      <td>0.450248</td>\n",
       "      <td>1.0</td>\n",
       "    </tr>\n",
       "    <tr>\n",
       "      <th>0</th>\n",
       "      <td>1.0</td>\n",
       "      <td>0.450248</td>\n",
       "      <td>1.0</td>\n",
       "    </tr>\n",
       "    <tr>\n",
       "      <th>0</th>\n",
       "      <td>1.0</td>\n",
       "      <td>0.549752</td>\n",
       "      <td>1.0</td>\n",
       "    </tr>\n",
       "    <tr>\n",
       "      <th>0</th>\n",
       "      <td>1.0</td>\n",
       "      <td>0.549752</td>\n",
       "      <td>1.0</td>\n",
       "    </tr>\n",
       "  </tbody>\n",
       "</table>\n",
       "</div>"
      ],
      "text/plain": [
       "   # photons  electron  i0z\n",
       "0        1.0  0.450248  1.0\n",
       "0        1.0  0.450248  1.0\n",
       "0        1.0  0.549752  1.0\n",
       "0        1.0  0.549752  1.0"
      ]
     },
     "execution_count": 132,
     "metadata": {},
     "output_type": "execute_result"
    }
   ],
   "source": [
    "df = pd.DataFrame()\n",
    "\n",
    "for s in es:\n",
    "    p,e,*i = qt.expect([a.dag()*a, em.dag()*em] + [im[i].dag()*im[i] for i in range(Ni)], s)\n",
    "    df = pd.concat([df, pd.DataFrame({'# photons': p, 'electron': e, **{'i{}z'.format(ni): i[ni] for ni in range(Ni)}}, index=[0])])\n",
    "\n",
    "df"
   ]
  },
  {
   "cell_type": "code",
   "execution_count": 113,
   "metadata": {},
   "outputs": [
    {
     "data": {
      "text/plain": [
       "{'# photons': 2.409205340011612,\n",
       " 'electron': 0.4261849926636204,\n",
       " 'i0z': 1.0000000000000002,\n",
       " 'i1z': 1.0000000000000002}"
      ]
     },
     "execution_count": 113,
     "metadata": {},
     "output_type": "execute_result"
    }
   ],
   "source": [
    "s = es[0]\n",
    "p,e,*i = qt.expect([a.dag()*a, em.dag()*em] + [iz[i].dag()*iz[i] for i in range(Ni)], s)\n",
    "{'# photons': p, 'electron': e, **{'i{}z'.format(ni): i[ni] for ni in range(Ni)}}"
   ]
  },
  {
   "cell_type": "code",
   "execution_count": 133,
   "metadata": {},
   "outputs": [
    {
     "data": {
      "text/latex": [
       "Quantum object: dims = [[2, 2], [2, 2]], shape = (4, 4), type = oper, isherm = True $ \\\\ \\left(\\begin{matrix}7.112 & 0.0 & 2.0 & 0.0\\\\0.0 & 7.112 & 0.0 & 2.0\\\\2.0 & 0.0 & 6.712 & 0.0\\\\0.0 & 2.0 & 0.0 & 6.712\\\\\\end{matrix}\\right)$"
      ],
      "text/plain": [
       "Quantum object: dims = [[2, 2], [2, 2]], shape = (4, 4), type = oper, isherm = True\n",
       "Qobj data =\n",
       "[[7.11150384 0.         2.         0.        ]\n",
       " [0.         7.11150384 0.         2.        ]\n",
       " [2.         0.         6.71150384 0.        ]\n",
       " [0.         2.         0.         6.71150384]]"
      ]
     },
     "execution_count": 133,
     "metadata": {},
     "output_type": "execute_result"
    }
   ],
   "source": [
    "H0"
   ]
  },
  {
   "cell_type": "code",
   "execution_count": 136,
   "metadata": {},
   "outputs": [
    {
     "data": {
      "text/latex": [
       "Quantum object: dims = [[2, 2], [2, 2]], shape = (4, 4), type = oper, isherm = True $ \\\\ \\left(\\begin{matrix}1.0 & 0.0 & 0.0 & 0.0\\\\0.0 & 1.0 & 0.0 & 0.0\\\\0.0 & 0.0 & 1.0 & 0.0\\\\0.0 & 0.0 & 0.0 & 1.0\\\\\\end{matrix}\\right)$"
      ],
      "text/plain": [
       "Quantum object: dims = [[2, 2], [2, 2]], shape = (4, 4), type = oper, isherm = True\n",
       "Qobj data =\n",
       "[[1. 0. 0. 0.]\n",
       " [0. 1. 0. 0.]\n",
       " [0. 0. 1. 0.]\n",
       " [0. 0. 0. 1.]]"
      ]
     },
     "execution_count": 136,
     "metadata": {},
     "output_type": "execute_result"
    }
   ],
   "source": [
    "im[0].dag()"
   ]
  },
  {
   "cell_type": "code",
   "execution_count": 137,
   "metadata": {},
   "outputs": [
    {
     "data": {
      "text/latex": [
       "Quantum object: dims = [[2, 2], [2, 2]], shape = (4, 4), type = oper, isherm = False $ \\\\ \\left(\\begin{matrix}0.0 & 0.0 & 0.0 & 0.0\\\\1.0 & 0.0 & 0.0 & 0.0\\\\0.0 & 0.0 & 0.0 & 0.0\\\\0.0 & 0.0 & 1.0 & 0.0\\\\\\end{matrix}\\right)$"
      ],
      "text/plain": [
       "Quantum object: dims = [[2, 2], [2, 2]], shape = (4, 4), type = oper, isherm = False\n",
       "Qobj data =\n",
       "[[0. 0. 0. 0.]\n",
       " [1. 0. 0. 0.]\n",
       " [0. 0. 0. 0.]\n",
       " [0. 0. 1. 0.]]"
      ]
     },
     "execution_count": 137,
     "metadata": {},
     "output_type": "execute_result"
    }
   ],
   "source": [
    "IIm"
   ]
  },
  {
   "cell_type": "code",
   "execution_count": 139,
   "metadata": {},
   "outputs": [
    {
     "data": {
      "text/latex": [
       "Quantum object: dims = [[2, 2], [2, 2]], shape = (4, 4), type = oper, isherm = False $ \\\\ \\left(\\begin{matrix}0.0 & 0.0 & 0.0 & 0.0\\\\1.0 & 0.0 & 0.0 & 0.0\\\\0.0 & 0.0 & 0.0 & 0.0\\\\0.0 & 0.0 & 1.0 & 0.0\\\\\\end{matrix}\\right)$"
      ],
      "text/plain": [
       "Quantum object: dims = [[2, 2], [2, 2]], shape = (4, 4), type = oper, isherm = False\n",
       "Qobj data =\n",
       "[[0. 0. 0. 0.]\n",
       " [1. 0. 0. 0.]\n",
       " [0. 0. 0. 0.]\n",
       " [0. 0. 1. 0.]]"
      ]
     },
     "execution_count": 139,
     "metadata": {},
     "output_type": "execute_result"
    }
   ],
   "source": [
    "qt.tensor(qt.qeye(2), qt.sigmam())"
   ]
  },
  {
   "cell_type": "code",
   "execution_count": null,
   "metadata": {},
   "outputs": [],
   "source": []
  }
 ],
 "metadata": {
  "kernelspec": {
   "display_name": "dynamiqs-jax",
   "language": "python",
   "name": "python3"
  },
  "language_info": {
   "codemirror_mode": {
    "name": "ipython",
    "version": 3
   },
   "file_extension": ".py",
   "mimetype": "text/x-python",
   "name": "python",
   "nbconvert_exporter": "python",
   "pygments_lexer": "ipython3",
   "version": "3.11.7"
  }
 },
 "nbformat": 4,
 "nbformat_minor": 2
}
