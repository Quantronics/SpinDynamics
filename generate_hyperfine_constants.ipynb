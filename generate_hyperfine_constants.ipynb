{
 "cells": [
  {
   "cell_type": "markdown",
   "id": "c670bfd7-33db-4035-81e3-94dcf3520c76",
   "metadata": {},
   "source": [
    "# Generating hyperfine constants\n",
    "\n",
    "This notebook is conceived as tool to easily generate the hyperfine constants of a certain number of nuclear spins, given their position, the $\\mathbf{g}$-tensor of the electron spin and the parameters of the external magnetic field.\n",
    "\n",
    "The user can easily extract the positions of the atoms carrying the nuclear spins considered using [VESTA](https://jp-minerals.org/vesta/en/).\n",
    "The value of the nuclear g-factor for any isotope can be found on the [International Nuclear Data Committee table](https://www-nds.iaea.org/publications/indc/indc-nds-0658.pdf)."
   ]
  },
  {
   "cell_type": "code",
   "execution_count": 2,
   "id": "903313c4-26d2-4b54-acf8-dab8c1ef695c",
   "metadata": {
    "tags": []
   },
   "outputs": [],
   "source": [
    "from src.hyperfine_constants import *\n",
    "\n",
    "# Physical constants\n",
    "mu_B = 9.27401007831e-24   # Bohr magneton in J/T\n",
    "h    = 6.6260693e-34       # Plank constant\n",
    "mu_0 = 12.566370614e-7     # Vacuum permeability\n",
    "mu_N = 5.0507836991e-27    # Nuclear magneton in J/T"
   ]
  },
  {
   "cell_type": "code",
   "execution_count": 3,
   "id": "82d68825-ed37-44e0-be78-28b2c566bddb",
   "metadata": {
    "tags": []
   },
   "outputs": [],
   "source": [
    "S = 1/2 # [User] Enter the electron spin number\n",
    "I = 5/2 # [User] Enter the nuclear spin number"
   ]
  },
  {
   "cell_type": "code",
   "execution_count": 4,
   "id": "1c69d39c-3bca-40f2-9db4-b703e0c5ee3a",
   "metadata": {
    "tags": []
   },
   "outputs": [],
   "source": [
    "# Spin parameters\n",
    "g_N  = -0.31539            # [User] Enter the nuclear g-factor here\n",
    "mu_I = mu_N*g_N            # Nuclear magneton * g nuclear in J/T"
   ]
  },
  {
   "cell_type": "code",
   "execution_count": 5,
   "id": "efcd8c3b-27b8-4e63-9457-8d2561bb123a",
   "metadata": {
    "tags": []
   },
   "outputs": [],
   "source": [
    "g_a, g_b, g_c = 2, 0.06, 14.37 # [User] Enter the symmetric g-tensor here"
   ]
  },
  {
   "cell_type": "code",
   "execution_count": 6,
   "id": "f7e2e14e-26e1-415d-95ba-92edaee29fc6",
   "metadata": {
    "tags": []
   },
   "outputs": [],
   "source": [
    "nuclear_pos = np.loadtxt('hyperfine_parameters/positions_TiO2.txt') * 1e-10 # Atom positions in Amstrongs"
   ]
  },
  {
   "cell_type": "code",
   "execution_count": 10,
   "id": "495c33d1-3555-4ac2-b7b7-0bd320e064cb",
   "metadata": {
    "tags": []
   },
   "outputs": [],
   "source": [
    "# External magnetic field\n",
    "B0 = 0.446\n",
    "theta = 0*np.pi/180\n",
    "phi = 0*np.pi/180\n",
    "B_field = [B0*np.sin(theta)*np.cos(phi), B0*np.sin(theta)*np.sin(phi), B0*np.cos(theta)]"
   ]
  },
  {
   "cell_type": "code",
   "execution_count": 11,
   "id": "b859c395-7339-4b4a-8500-2b2e8a671256",
   "metadata": {
    "tags": []
   },
   "outputs": [
    {
     "data": {
      "text/plain": [
       "'Results saved in hyperfine_parameters/832_at_(0.0,0.0,446.0)_Ti.csv'"
      ]
     },
     "execution_count": 11,
     "metadata": {},
     "output_type": "execute_result"
    }
   ],
   "source": [
    "max_nuclear_spins = 832\n",
    "\n",
    "A_hyperfine, B_hyperfine = np.zeros(max_nuclear_spins), np.zeros(max_nuclear_spins) \n",
    "for i in range(max_nuclear_spins):\n",
    "    A_hyperfine[i], B_hyperfine[i] = get_hyperfine_constants(nuclear_pos[i, 1:], S, I, B_field, g_a, g_b, g_c, g_N)\n",
    "\n",
    "\n",
    "df = pd.DataFrame({\n",
    " \"x (Ams)\": nuclear_pos[:max_nuclear_spins, 1]*1e10,\n",
    " \"y (Ams)\": nuclear_pos[:max_nuclear_spins, 2]*1e10,\n",
    " \"z (Ams)\": nuclear_pos[:max_nuclear_spins, 3]*1e10,\n",
    " \"A (kHz)\": A_hyperfine,\n",
    " \"B (kHz)\": B_hyperfine,\n",
    "})\n",
    "\n",
    "B_str = '(%.1f,%.1f,%.1f)'%(B_field[0]*1e3, B_field[1]*1e3, B_field[2]*1e3)\n",
    "\n",
    "filename = 'hyperfine_parameters/%d_at_%s_Ti.csv'%(max_nuclear_spins, B_str)\n",
    "df.to_csv(filename)\n",
    "'Results saved in '+filename"
   ]
  },
  {
   "cell_type": "code",
   "execution_count": 12,
   "id": "fd827a57-a7f1-45e4-b7fa-46cb91835da7",
   "metadata": {},
   "outputs": [
    {
     "name": "stdout",
     "output_type": "stream",
     "text": [
      "      x (Ams)   y (Ams)  z (Ams)      A (kHz)     B (kHz)\n",
      "0    -0.00000  -0.00000 -2.95870  2474.014540    0.000000\n",
      "1     0.00000   0.00000  2.95870  2474.014540    0.000000\n",
      "2    -2.29685  -2.29685 -1.47935   341.480138  356.572235\n",
      "3    -2.29685  -2.29685  1.47935   341.480138  356.572235\n",
      "4    -2.29685   2.29685 -1.47935   341.480138  356.572235\n",
      "..        ...       ...      ...          ...         ...\n",
      "827 -13.78110 -13.78110  5.91740     2.831584    1.414182\n",
      "828 -13.78110  13.78110 -5.91740     2.831584    1.414182\n",
      "829 -13.78110  13.78110  5.91740     2.831584    1.414182\n",
      "830  13.78110 -13.78110 -5.91740     2.831584    1.414182\n",
      "831  13.78110 -13.78110  5.91740     2.831584    1.414182\n",
      "\n",
      "[832 rows x 5 columns]\n"
     ]
    }
   ],
   "source": [
    "print(df)"
   ]
  },
  {
   "cell_type": "code",
   "execution_count": null,
   "id": "7feeb7b9-40db-48ac-a523-95eabd945a48",
   "metadata": {},
   "outputs": [],
   "source": []
  }
 ],
 "metadata": {
  "kernelspec": {
   "display_name": "Python 3 (ipykernel)",
   "language": "python",
   "name": "python3"
  },
  "language_info": {
   "codemirror_mode": {
    "name": "ipython",
    "version": 3
   },
   "file_extension": ".py",
   "mimetype": "text/x-python",
   "name": "python",
   "nbconvert_exporter": "python",
   "pygments_lexer": "ipython3",
   "version": "3.11.5"
  }
 },
 "nbformat": 4,
 "nbformat_minor": 5
}
